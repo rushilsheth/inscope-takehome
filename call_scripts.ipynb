{
 "cells": [
  {
   "cell_type": "code",
   "execution_count": 1,
   "id": "ec96ba48",
   "metadata": {},
   "outputs": [
    {
     "name": "stdout",
     "output_type": "stream",
     "text": [
      "list contains 502 elements\n"
     ]
    }
   ],
   "source": [
    "from src.create_mapping import create_mapping_df \n",
    "mapping_df = create_mapping_df('data')"
   ]
  },
  {
   "cell_type": "markdown",
   "id": "9becddd2",
   "metadata": {},
   "source": [
    "# cluster on:\n",
    "- Revenue\n",
    "### would be nice\n",
    "- Executive Compensation: Details the compensation of the company's top executives, including salaries, bonuses, stock options, and other benefits.\n",
    "- more numerical data: Profit Margins (Gross, Operating, and Net Margins)"
   ]
  },
  {
   "cell_type": "code",
   "execution_count": 2,
   "id": "e2ef4994",
   "metadata": {},
   "outputs": [],
   "source": [
    "import pandas as pd\n",
    "# Abbot: https://www.google.com/search?q=abbot+revenue&sourceid=chrome&ie=UTF-8\n",
    "# Altria: https://www.google.com/search?q=ALTRIA+GROUP,+INC.+revenue+2022&sca_esv=598681343&sxsrf=ACQVn0_3hexuSjhHQu3R45KZbOi-lu4Lqg:1705378996424&ei=tASmZdzBGYP50PEPopOp4Ak&ved=0ahUKEwjc66fqh-GDAxWDPDQIHaJJCpwQ4dUDCBE&uact=5&oq=ALTRIA+GROUP,+INC.+revenue+2022&gs_lp=Egxnd3Mtd2l6LXNlcnAiH0FMVFJJQSBHUk9VUCwgSU5DLiByZXZlbnVlIDIwMjIyCBAhGKABGMMESPkTUNEGWM4OcAF4AZABAJgBnAGgAbcCqgEDMC4yuAEDyAEA-AEB-AECwgIKEAAYRxjWBBiwA8ICBhAAGAcYHuIDBBgAIEGIBgGQBgg&sclient=gws-wiz-serp\n",
    "# US Bancorp: https://www.google.com/search?q=U.S.+Bancorp+revenue+2022&sca_esv=598681343&sxsrf=ACQVn0-_Od9H4crgkwvcwc5qRvIdIfjv2w:1705379086311&ei=DgWmZeDLEsGs0PEP8Pu76Ak&ved=0ahUKEwjgipaViOGDAxVBFjQIHfD9Dp0Q4dUDCBE&uact=5&oq=U.S.+Bancorp+revenue+2022&gs_lp=Egxnd3Mtd2l6LXNlcnAiGVUuUy4gQmFuY29ycCByZXZlbnVlIDIwMjIyCBAhGKABGMMEMggQIRigARjDBEi8E1DNCVjBEXABeAGQAQCYAXCgAc8BqgEDMS4xuAEDyAEA-AEB-AECwgIHECMYsAMYJ8ICChAAGEcY1gQYsAPCAgYQABgHGB7iAwQYACBBiAYBkAYJ&sclient=gws-wiz-serp \n",
    "# Motorla Solutions, Inc. : https://www.google.com/search?q=MOTOROLA+SOLUTIONS,+INC.+revenue+2022&sca_esv=598681343&sxsrf=ACQVn09BrYDNFQMiAI3p8sdyLpNdmHdiHA:1705379269800&ei=xQWmZbfCMLLi0PEPqO-P2Ak&ved=0ahUKEwj3uNXsiOGDAxUyMTQIHaj3A5sQ4dUDCBE&uact=5&oq=MOTOROLA+SOLUTIONS,+INC.+revenue+2022&gs_lp=Egxnd3Mtd2l6LXNlcnAiJU1PVE9ST0xBIFNPTFVUSU9OUywgSU5DLiByZXZlbnVlIDIwMjIyCBAAGIAEGKIEMggQABiABBiiBDIIEAAYiQUYogRI_rEHUPupB1iDrwdwCHgBkAEAmAGcAaAB-AGqAQMxLjG4AQPIAQD4AQL4AQHCAgoQABhHGNYEGLADwgIIECEYoAEYwwTiAwQYACBBiAYBkAYI&sclient=gws-wiz-serp \n",
    "# DTE Energy Inc: https://www.google.com/search?q=dte+energy+inc+revenue+2022&sca_esv=598681343&sxsrf=ACQVn0_1SbQTyISanht__YwIQUr-0UdEEg:1705379472154&ei=kAamZfeACZPE0PEPk5eU2Ak&oq=DTE+Engery+revenue+2022&gs_lp=Egxnd3Mtd2l6LXNlcnAiF0RURSBFbmdlcnkgcmV2ZW51ZSAyMDIyKgIIADIMECEYChigARjDBBgKMgwQIRgKGKABGMMEGApIqWZQyBFYwltwBHgBkAEAmAGOAaABnQmqAQQxMy4xuAEDyAEA-AEC-AEBwgIHECMYsAMYJ8ICChAAGEcY1gQYsAPCAgYQABgHGB7CAgcQABiABBgNwgIGEAAYHhgNwgIIEAAYBRgeGA3CAgsQABiABBiKBRiGA8ICBBAAGB7CAgoQIRgKGKABGMME4gMEGAAgQYgGAZAGCQ&sclient=gws-wiz-serp\n",
    "revenue_data = {\n",
    "    'CIK': ['0000001800', '0000764180', '0000036104', '0000068505', '0000936340'],\n",
    "    'verified_revenue': [43_653_000_000, 25_096_000_000, 27_401_000_000, 9_112_000_000, 19.228]\n",
    "}\n",
    "revenue_validation = pd.DataFrame(revenue_data, columns = ['CIK', 'verified_revenue'])"
   ]
  },
  {
   "cell_type": "code",
   "execution_count": 3,
   "id": "c63c77fb",
   "metadata": {},
   "outputs": [
    {
     "name": "stdout",
     "output_type": "stream",
     "text": [
      "data/0000001800.html\n"
     ]
    },
    {
     "name": "stderr",
     "output_type": "stream",
     "text": [
      "100%|██████████| 6/6 [01:09<00:00, 11.51s/it]\n"
     ]
    },
    {
     "name": "stdout",
     "output_type": "stream",
     "text": [
      "data/0000764180.html\n"
     ]
    },
    {
     "name": "stderr",
     "output_type": "stream",
     "text": [
      "  0%|          | 0/8 [00:00<?, ?it/s]"
     ]
    }
   ],
   "source": [
    "from src.eval import eval_revenue\n",
    "rev_eval_df = eval_revenue(revenue_validation, mapping_df)"
   ]
  },
  {
   "cell_type": "markdown",
   "id": "2bea287a",
   "metadata": {},
   "source": [
    "rev_eval_df"
   ]
  },
  {
   "cell_type": "code",
   "execution_count": 2,
   "id": "78dd12b5",
   "metadata": {},
   "outputs": [
    {
     "name": "stdout",
     "output_type": "stream",
     "text": [
      "number of chunks: 8\n",
      "{\"summary\": \"STERIS plc is a leading global provider of products and services in the healthcare, life sciences, and dental industries. The company reported a total revenue of $1,634,747,000 for the fiscal year ended March 31, 2023. This represents a growth of 1.3% compared to the previous year. The main drivers of revenue growth were increased demand for medical procedures, preventive screenings, and infection prevention products and services. However, the company faced challenges such as supply chain disruptions and increased costs. Overall, it was a financially successful year for the company, with a steady revenue growth. Looking ahead, STERIS expects continued demand for its products and services, driven by the aging population and advancements in healthcare delivery. The company will focus on innovation and expanding its market presence to drive future revenue growth.\", \"revenue\": \"1,634,747,000\"}\n",
      "{\"summary\": \"The 10-K report highlights several risks and challenges that could impact the company's revenue and operations. These include geopolitical instability, the COVID-19 pandemic, healthcare laws and reimbursement changes, product and service regulations, tax risks, and business competition. The report also mentions the company's acquisition activities and the potential impact on earnings per share. The company has a significant amount of debt and incurred substantial expenses related to recent acquisitions. The report does not provide specific revenue figures.\", \"revenue\": \"N/A\"}\n",
      "{\"summary\": \"STERIS, a leading global provider of products and services in the healthcare industry, reported a revenue growth of 8.1% for the year ended March 31, 2023, compared to the previous year. The growth was driven by increased volume and pricing in the Healthcare, Applied Sterilization Technologies, and Life Sciences segments. The company's gross profit percentage decreased slightly to 43.6% due to inflation and productivity impacts. Despite a one-time goodwill impairment charge, the company achieved an operating income of $268.2 million. STERIS expects to manage costs, invest in capacity, and pursue potential acquisitions to drive future revenue growth. Overall, the company had a financially successful year in terms of revenue performance.\", \"revenue\": \"4,957,839\"}\n",
      "{\"summary\": \"In fiscal year 2023, STERIS plc reported total revenue of $4,957,839,000. This represents a significant increase compared to the previous year, indicating strong revenue growth. The main drivers of this growth were the product and service segments, which saw increases in revenue. The company's focus on capital expenditures and investments in new facilities, business expansion projects, and research and development advances contributed to its financial success. Looking ahead, STERIS expects to continue investing in facility expansions and maintenance for existing facilities, which indicates a positive outlook for future revenue growth. Overall, STERIS had a financially successful year in terms of revenue performance.\", \"revenue\": \"4,957,839,000\"}\n",
      "{\"summary\": \"During the fiscal year, the company completed several acquisitions to expand its product and service offerings. The most significant acquisition was Cantel Medical LLC, which strengthened the company's position in infection prevention. However, the company recognized a goodwill impairment loss related to the Cantel acquisition. The total revenue for the year is not provided in the report.\", \"revenue\": \"N/A\"}\n",
      "{\"summary\": \"The 10-K report provides information on the company's financial performance and obligations. The revenue growth for the year is not mentioned in the report. The main factors that contributed to the revenue growth are not specified. The total revenue for the company is not provided in the report. The report does not provide any projections or expectations for future revenue. Overall, the financial health of the company with respect to its revenue performance cannot be determined based on the information provided.\", \"revenue\": \"N/A\"}\n",
      "{\"summary\": \"This is a summary of the 10-K report. The revenue for the company is not provided in the document.\", \"revenue\": \"N/A\"}\n",
      "{\"summary\": \"The 10-K report for STERIS plc provides a comprehensive overview of the company's financial performance. The report does not explicitly state the total revenue for the year, so the revenue figure is not available.\", \"revenue\": \"N/A\"}\n",
      "going to combine summaries!\n",
      "in combine summary\n",
      "input_variables=[] messages=[SystemMessage(content='\\nWe have asked an LLM to summarize a 10-K and had to do it in chunks. \\n\\nCombine the following summaries and create a new summary. Here is the summary used for each chunk:\\n\\nYour task is to read through the provided 10-K report and return a summary and the total revenue for the company.\\n\\n**Summary Instructions:**\\n\\nPlease provide a one-paragraph summary of the provided 10-K report with a focus on the revenue. Include the following details:\\n\\n1. **Revenue Growth:** Highlight the percentage growth or decline in revenue compared to the previous year.\\n2. **Key Drivers and Blockers:** Identify the main factors that contributed to or hindered the revenue growth.\\n3. **Numerical Insights:** Mention any significant numerical figures related to revenue (e.g., total revenue, revenue by segment, or geographic region).\\n4. **Annual Performance Evaluation:** Assess whether this was a financially successful year for the company in terms of revenue.\\n5. **Future Outlook:** Provide insights into the company\\'s revenue expectations or projections for the next year, including any strategies or market conditions that might impact these figures.\\n\\nEnd the summary with a concise statement on the overall financial health of the company with respect to its revenue performance.\\n\\n**Revenue Instructions**\\n- Only give a revenue value if it is:\\n    - full revenue for the year\\n    - is stated in the the document\\n    - return \\'N/A\\' if it is not present\\n**Not following these instructions will deem the output fully incorrect**\\n\\n**Output Instructions**\\nOutput as a RFC 8259 compliant JSON with two fields where revenue should not contain any words and should be rounded to the nearest integer if and only if the above conditions are met. If the text says 200 million, you will return 200,000,000:\\n\\n{\"summary\": \"This is a summary of the 10-K report\", \"revenue\": \"200,000,000\"}\\n\\nOR\\n\\n{\"summary\": \"This is a summary of the 10-K report\", \"revenue\": \"N/A\"}\\n\\n\\nEnsure the new summary follows this same format and prompt.\\n'), HumanMessage(content=\"Summary List:\\n\\n0. STERIS plc is a leading global provider of products and services in the healthcare, life sciences, and dental industries. The company reported a total revenue of $1,634,747,000 for the fiscal year ended March 31, 2023. This represents a growth of 1.3% compared to the previous year. The main drivers of revenue growth were increased demand for medical procedures, preventive screenings, and infection prevention products and services. However, the company faced challenges such as supply chain disruptions and increased costs. Overall, it was a financially successful year for the company, with a steady revenue growth. Looking ahead, STERIS expects continued demand for its products and services, driven by the aging population and advancements in healthcare delivery. The company will focus on innovation and expanding its market presence to drive future revenue growth.\\n1. The 10-K report highlights several risks and challenges that could impact the company's revenue and operations. These include geopolitical instability, the COVID-19 pandemic, healthcare laws and reimbursement changes, product and service regulations, tax risks, and business competition. The report also mentions the company's acquisition activities and the potential impact on earnings per share. The company has a significant amount of debt and incurred substantial expenses related to recent acquisitions. The report does not provide specific revenue figures.\\n2. STERIS, a leading global provider of products and services in the healthcare industry, reported a revenue growth of 8.1% for the year ended March 31, 2023, compared to the previous year. The growth was driven by increased volume and pricing in the Healthcare, Applied Sterilization Technologies, and Life Sciences segments. The company's gross profit percentage decreased slightly to 43.6% due to inflation and productivity impacts. Despite a one-time goodwill impairment charge, the company achieved an operating income of $268.2 million. STERIS expects to manage costs, invest in capacity, and pursue potential acquisitions to drive future revenue growth. Overall, the company had a financially successful year in terms of revenue performance.\\n3. In fiscal year 2023, STERIS plc reported total revenue of $4,957,839,000. This represents a significant increase compared to the previous year, indicating strong revenue growth. The main drivers of this growth were the product and service segments, which saw increases in revenue. The company's focus on capital expenditures and investments in new facilities, business expansion projects, and research and development advances contributed to its financial success. Looking ahead, STERIS expects to continue investing in facility expansions and maintenance for existing facilities, which indicates a positive outlook for future revenue growth. Overall, STERIS had a financially successful year in terms of revenue performance.\\n4. During the fiscal year, the company completed several acquisitions to expand its product and service offerings. The most significant acquisition was Cantel Medical LLC, which strengthened the company's position in infection prevention. However, the company recognized a goodwill impairment loss related to the Cantel acquisition. The total revenue for the year is not provided in the report.\\n5. The 10-K report provides information on the company's financial performance and obligations. The revenue growth for the year is not mentioned in the report. The main factors that contributed to the revenue growth are not specified. The total revenue for the company is not provided in the report. The report does not provide any projections or expectations for future revenue. Overall, the financial health of the company with respect to its revenue performance cannot be determined based on the information provided.\\n6. This is a summary of the 10-K report. The revenue for the company is not provided in the document.\\n7. The 10-K report for STERIS plc provides a comprehensive overview of the company's financial performance. The report does not explicitly state the total revenue for the year, so the revenue figure is not available.\\n\")]\n",
      "combined summary: content='{\"summary\": \"STERIS plc, a leading global provider of products and services in the healthcare, life sciences, and dental industries, reported a total revenue of $1,634,747,000 for the fiscal year ended March 31, 2023. This represents a growth of 1.3% compared to the previous year. The main drivers of revenue growth were increased demand for medical procedures, preventive screenings, and infection prevention products and services. However, the company faced challenges such as supply chain disruptions and increased costs. Overall, it was a financially successful year for the company, with a steady revenue growth. Looking ahead, STERIS expects continued demand for its products and services, driven by the aging population and advancements in healthcare delivery. The company will focus on innovation and expanding its market presence to drive future revenue growth.\", \"revenue\": \"1,634,747,000\"}'\n",
      "returning in summarize_text\n",
      "{'summary': AIMessage(content='{\"summary\": \"STERIS plc, a leading global provider of products and services in the healthcare, life sciences, and dental industries, reported a total revenue of $1,634,747,000 for the fiscal year ended March 31, 2023. This represents a growth of 1.3% compared to the previous year. The main drivers of revenue growth were increased demand for medical procedures, preventive screenings, and infection prevention products and services. However, the company faced challenges such as supply chain disruptions and increased costs. Overall, it was a financially successful year for the company, with a steady revenue growth. Looking ahead, STERIS expects continued demand for its products and services, driven by the aging population and advancements in healthcare delivery. The company will focus on innovation and expanding its market presence to drive future revenue growth.\", \"revenue\": \"1,634,747,000\"}'), 'revenue': 4957839000}\n"
     ]
    }
   ],
   "source": [
    "from src.eval import eval_summary\n",
    "llm_compare_summaries = eval_summary('0001757898', 'steries_exec_summary.txt', mapping_df)"
   ]
  },
  {
   "cell_type": "code",
   "execution_count": null,
   "id": "be7a5a72",
   "metadata": {},
   "outputs": [],
   "source": []
  }
 ],
 "metadata": {
  "kernelspec": {
   "display_name": "Python 3 (ipykernel)",
   "language": "python",
   "name": "python3"
  },
  "language_info": {
   "codemirror_mode": {
    "name": "ipython",
    "version": 3
   },
   "file_extension": ".py",
   "mimetype": "text/x-python",
   "name": "python",
   "nbconvert_exporter": "python",
   "pygments_lexer": "ipython3",
   "version": "3.11.6"
  }
 },
 "nbformat": 4,
 "nbformat_minor": 5
}
