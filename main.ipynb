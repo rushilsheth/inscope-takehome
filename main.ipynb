{
 "cells": [
  {
   "cell_type": "code",
   "execution_count": 8,
   "id": "5f59854f-88f3-4415-b901-88b2f1d06268",
   "metadata": {},
   "outputs": [
    {
     "data": {
      "application/vnd.jupyter.widget-view+json": {
       "model_id": "32fe8dcae00049ce9035b652bb9afde1",
       "version_major": 2,
       "version_minor": 0
      },
      "text/plain": [
       "Dropdown(description='Select CIK:', options=('0000001800', '0000002488', '0000002969', '0000004127', '00000042…"
      ]
     },
     "metadata": {},
     "output_type": "display_data"
    },
    {
     "name": "stdout",
     "output_type": "stream",
     "text": [
      "Similar Revenue to 0000002969\n"
     ]
    }
   ],
   "source": [
    "import ipywidgets as widgets\n",
    "import pandas as pd\n",
    "\n",
    "# Assuming your DataFrame is already created\n",
    "df = pd.read_csv('cik_file_mapping.csv', dtype={'CIK': str})\n",
    "\n",
    "# Create Dropdown\n",
    "dropdown = widgets.Dropdown(\n",
    "    options=df['CIK'].sort_values(),\n",
    "    description='Select CIK:',\n",
    "    disabled=False,\n",
    ")\n",
    "\n",
    "# Define the function to handle changes\n",
    "def get_cluster(change):\n",
    "    cik = change['new']\n",
    "\n",
    "    # get similar CIKs\n",
    "    print(f'Similar Revenue to {cik}')\n",
    "\n",
    "dropdown.observe(get_cluster, names='value')\n",
    "display(dropdown)"
   ]
  },
  {
   "cell_type": "code",
   "execution_count": null,
   "id": "9dfa4a89",
   "metadata": {},
   "outputs": [],
   "source": []
  }
 ],
 "metadata": {
  "kernelspec": {
   "display_name": "Python 3 (ipykernel)",
   "language": "python",
   "name": "python3"
  },
  "language_info": {
   "codemirror_mode": {
    "name": "ipython",
    "version": 3
   },
   "file_extension": ".py",
   "mimetype": "text/x-python",
   "name": "python",
   "nbconvert_exporter": "python",
   "pygments_lexer": "ipython3",
   "version": "3.11.6"
  }
 },
 "nbformat": 4,
 "nbformat_minor": 5
}
